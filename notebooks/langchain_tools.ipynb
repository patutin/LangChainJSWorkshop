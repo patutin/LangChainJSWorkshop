{
 "cells": [
  {
   "cell_type": "markdown",
   "metadata": {},
   "source": [
    "# Tools\n"
   ]
  },
  {
   "cell_type": "code",
   "execution_count": 2,
   "metadata": {},
   "outputs": [],
   "source": [
    "import { ChatOpenAI } from \"npm:langchain/chat_models/openai\";\n",
    "\n",
    "const model = new ChatOpenAI({});\n",
    "const promptTemplate = PromptTemplate.fromTemplate(\n",
    "  \"You are a restaurant critic. Express your impression about {dish} in 10 words\"\n",
    ");"
   ]
  },
  {
   "cell_type": "code",
   "execution_count": null,
   "metadata": {},
   "outputs": [],
   "source": [
    "const chain = promptTemplate.pipe(model);\n",
    "\n",
    "const stream = await chain.stream({ dish: \"Pizza Salami\" });\n",
    "\n",
    "for await (const chunk of stream) {\n",
    "  console.log(chunk?.content);\n",
    "}"
   ]
  },
  {
   "cell_type": "code",
   "execution_count": null,
   "metadata": {},
   "outputs": [],
   "source": [
    "import { RunnableSequence } from \"npm:langchain/schema/runnable\";\n",
    "\n",
    "// You can also create a chain using an array of runnables\n",
    "const chain = RunnableSequence.from([promptTemplate, model]);\n",
    "\n",
    "const result = await chain.invoke({ dish: \"Pizza Salami\" });\n",
    "\n",
    "console.log(result);"
   ]
  },
  {
   "cell_type": "code",
   "execution_count": null,
   "metadata": {},
   "outputs": [],
   "source": [
    "const chain = promptTemplate.pipe(model);\n",
    "\n",
    "const result = await chain.batch([{ dish: \"Pizza\" }, { dish: \"Sushi\" }]);\n",
    "\n",
    "console.log(result);"
   ]
  },
  {
   "cell_type": "markdown",
   "metadata": {},
   "source": [
    "## Back to LLMChain expamle"
   ]
  },
  {
   "cell_type": "code",
   "execution_count": 1,
   "metadata": {},
   "outputs": [
    {
     "ename": "ReferenceError",
     "evalue": "ChatOpenAI is not defined",
     "output_type": "error",
     "traceback": [
      "Stack trace:",
      "ReferenceError: ChatOpenAI is not defined",
      "    at <anonymous>:12:15"
     ]
    }
   ],
   "source": [
    "import { PromptTemplate } from \"npm:langchain/prompts\";\n",
    "import { StringOutputParser } from \"npm:langchain/schema/output_parser\";\n",
    "import { RunnableSequence } from \"npm:langchain/schema/runnable\";\n",
    "\n",
    "const criticPrompt = PromptTemplate.fromTemplate(\n",
    "    `\n",
    "    You are travel blogger. You are writing a review of a national dishes.\n",
    "    Reccomend dish to your readers in {contry}.\n",
    "    `\n",
    ");\n",
    "\n",
    "const assistantPrompt = PromptTemplate.fromTemplate(\n",
    "  `\n",
    "  You are a restaurant critic. You've tasted {dish} and are expressing your impression of it. \n",
    "  The review can be either negative or positive.\n",
    "  `\n",
    ");\n",
    "\n",
    "const model = new ChatOpenAI({});\n",
    "\n",
    "const criticChain = criticPrompt.pipe(model).pipe(new StringOutputParser());\n",
    "\n",
    "const combinedChain = RunnableSequence.from([\n",
    "  {\n",
    "    review: criticChain,\n",
    "  },\n",
    "  assistantPrompt,\n",
    "  model,\n",
    "  new StringOutputParser(),\n",
    "]);\n",
    "\n",
    "const result = await combinedChain.invoke({\n",
    "  dish: \"Italy\"\n",
    "});\n",
    "\n",
    "console.log(result);"
   ]
  }
 ],
 "metadata": {
  "kernelspec": {
   "display_name": "Deno",
   "language": "typescript",
   "name": "deno"
  },
  "language_info": {
   "file_extension": ".ts",
   "mimetype": "text/x.typescript",
   "name": "typescript",
   "nb_converter": "script",
   "pygments_lexer": "typescript",
   "version": "5.2.2"
  }
 },
 "nbformat": 4,
 "nbformat_minor": 2
}
